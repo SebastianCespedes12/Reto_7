{
 "cells": [
  {
   "cell_type": "markdown",
   "metadata": {},
   "source": [
    ">##### 1.Imprimir un listado con los números del 1 al 100 cada uno con su respectivo cuadrado.\n"
   ]
  },
  {
   "cell_type": "code",
   "execution_count": null,
   "metadata": {},
   "outputs": [],
   "source": [
    "i : int = 1  # Desde que numero se va a imprimir\n",
    "while i<=100: # Se repite el ciclo hasta que llegemos al ultimo numero (100)\n",
    "  cuadrado : int = i**2 # La variable cuadrado se asigna al cuadrado del numero\n",
    "  print(\"numero: \"+ str(i) + \", \"+ \"cuadrado: \" + str(cuadrado) ) # Se imprime el numero y su cuadrado\n",
    "  i+=1   # Suma 1 al numero "
   ]
  },
  {
   "cell_type": "markdown",
   "metadata": {},
   "source": [
    ">##### 2.Imprimir un listado con los números impares desde 1 hasta 999 y seguidamente otro listado con los números pares desde 2 hasta 1000."
   ]
  },
  {
   "cell_type": "code",
   "execution_count": null,
   "metadata": {},
   "outputs": [],
   "source": [
    "i : int = 1 # Se empieza desde el primer impar: 1\n",
    "print (\"Numeos impares: \")\n",
    "while i<=999 :  # Se repite el ciclo mientras que se el numero sea menor o igual a 999\n",
    "  print(i) # Se imprime el numero \n",
    "  i+=2   # Se suma de a 2 ya que impar + 2= impar siguiente\n",
    "print(\"Numeros pares: \")\n",
    "j = 2  # Se empieza desde 2\n",
    "while j<=1000 : # Se repite el ciclo mientras que se el numero sea menor o igual a 1000       \n",
    "  print(j)  # Se imprime el numero\n",
    "  j+=2  # Se suma de a 2 ya que par + 2= par siguiente"
   ]
  },
  {
   "cell_type": "markdown",
   "metadata": {},
   "source": [
    ">##### 3.Imprimir los números pares en forma descendente hasta 2 que son menores o iguales a un número natural n ≥ 2 dado"
   ]
  },
  {
   "cell_type": "code",
   "execution_count": null,
   "metadata": {},
   "outputs": [],
   "source": [
    "n : int = int(input(\"Numero  n>=2: \")) # El usuario ingresa un numero mayor o igual que 2\n",
    "while n>=2 : # Se repite el ciclo mientras quue el numero sea mayor o igual a 2\n",
    "  if n%2 == 0 : # Si el numero es par se imprime si mismo\n",
    "    print(n) \n",
    "  else : # Si el numero es impar se le resta uno para volverse par e imprimirse\n",
    "    print(n-1)\n",
    "  n-=2  # Se resta 2 al numero ya que par-2 = par anterior"
   ]
  },
  {
   "cell_type": "markdown",
   "metadata": {},
   "source": [
    ">##### 4.En 2022 el país A tendrá una población de 25 millones de habitantes y el país B de 18.9 millones. Las tasas de crecimiento anual de la población serán de 2% y 3% respectivamente. Desarrollar un algoritmo para informar en que año la población del país B superará a la de A."
   ]
  },
  {
   "cell_type": "code",
   "execution_count": null,
   "metadata": {},
   "outputs": [],
   "source": [
    "Poblacion_A_en_millones : float = 25   # Poblacion inicial de pais A\n",
    "Poblacion_B_en_millones : float = 18.9 # Poblacion inicial de pais B\n",
    "Año = 2022  # Año de inicio\n",
    "while Poblacion_A_en_millones>Poblacion_B_en_millones: # Se repite el ciclo hasta que la poblacion del pais B supere la poblacion del pais A \n",
    "  Poblacion_A_en_millones += 0.02 # Se aumenta la poblacion por la tasa de crecimiento del pais A\n",
    "  Poblacion_B_en_millones += 0.03 # Se aumenta la poblacion por la tasa de crecimiento del pais B\n",
    "  if Poblacion_A_en_millones<Poblacion_B_en_millones:  # Si la poblacion del pais B supera la del pais A se rompe el ciclo\n",
    "    break\n",
    "  Año +=1 # Se aumenta el año por 1\n",
    "print(\"La población del país B superará a la de A en: \" + str(Año)) # Se imprime en que año la poblacion del pais B supero la del pais A"
   ]
  },
  {
   "cell_type": "markdown",
   "metadata": {},
   "source": [
    ">##### 5.Imprimir el factorial de un número natural n dado."
   ]
  },
  {
   "cell_type": "code",
   "execution_count": null,
   "metadata": {},
   "outputs": [],
   "source": [
    "n: int = int(input(\"Ingrese numero natural: \")) #Se ingresa el numero para dar el factorial\n",
    "N=n # Se guarda el valor inicial en el valor N\n",
    "Factorial : int = 1 # El factorial se empieza por 1\n",
    "while n >= 1 : # Se repite el ciclo mientras que el numero sea mayor o igual a 1 \n",
    "  Factorial *= n\t# El factorial se multiplica por el numero\n",
    "  n-=1 # El numero se resta por uno y se repite el ciclo\n",
    "print(\"El factorial de \" +str(N)+\" es \"+str(Factorial))  # Se imprime el numero y su factorial "
   ]
  },
  {
   "cell_type": "markdown",
   "metadata": {},
   "source": [
    ">##### 6.Implementar un algoritmo que permita adivinar un número dado de 1 a 100, preguntando en cada caso si el número es mayor, menor o igual."
   ]
  },
  {
   "cell_type": "code",
   "execution_count": null,
   "metadata": {},
   "outputs": [],
   "source": [
    "a : float = float(input(\"Ingrese numero:\")) # El usuario ingresa un numero para adivinar \n",
    "b : float = 36.0 # El numero que el usuario debe adivinar\n",
    "while a!=b : # Se repite el ciclo mientras que los numeros sean distintos\n",
    "  if b>a: # Si el numero que se debe adivinar es mayor, se imprime que el numero es mayor\n",
    "    print(\"El numero es mayor\")\n",
    "    a = float(input(\"Adivine de nuevo:\")) # El usuario vuelve a adivinar\n",
    "  else :\n",
    "    print(\"El numero es menor\") # Si el numero que se debe adivinar es menor, se imprime que el numero es menor\n",
    "    a = float(input(\"Adivine de nuevo:\")) # El usuario vuelve a adivinar\n",
    "if a == b: # Si los numeros son iguales, se imprime los numeros son iguales\n",
    "  print(\"Los numeros son iguales\") "
   ]
  },
  {
   "cell_type": "markdown",
   "metadata": {},
   "source": [
    ">##### 7.Implementar un programa que ingrese un número de 2 a 50 y muestre sus divisores."
   ]
  },
  {
   "cell_type": "code",
   "execution_count": null,
   "metadata": {},
   "outputs": [],
   "source": [
    "n : int = int(input(\"Ingrese numero de 2 a 50: \")) # El usuario ingresa un numero  \n",
    "divs : int = 1 # Se empieza el divisor desde 1, ya que el divisible mas pequeño que un numero puede tener  \n",
    "while n>=2 and n<=50: # Si el numero esta entre 2 y 50 entra al ciclo\n",
    "  if n%divs == 0 : # Se imprime el divisor si el modulo es igual a 0\n",
    "    print(str(divs) + \" es divisor de \" + str(n))   \n",
    "  divs +=1 # Se suma 1 al posible divisor\n",
    "  if divs >= n : # Se finaliza el ciclo si el divisor es igual a el numero, ya que es el ultimo divisor posible\n",
    "    break"
   ]
  },
  {
   "cell_type": "markdown",
   "metadata": {},
   "source": [
    ">##### 8.Implementar el algoritmo que muestre los números primos del 1 al 100. Nota: use funciones"
   ]
  },
  {
   "cell_type": "code",
   "execution_count": null,
   "metadata": {},
   "outputs": [],
   "source": [
    "def calculo_primo(n:int)->int: \n",
    "  j:int =2 # Se declarar e inicializa la variable j desde 2, ya que es el divisible mas pequeño que un numero puede tener sin contar 1\n",
    "  primo_si: bool = True # Se inicializa la variable como Verdadera\n",
    "  while j<n: # Se repite el ciclo mientras el posible divisor sea menor a el numero \n",
    "    if n%j == 0: # Si el modulo del numero y el divisor es igual a 0 tiene otro divisor ademas 1 y si mismo, entonces no es primo\n",
    "      primo_si = False  # Se inicializa a Falso ya que no es primo\n",
    "      break # Se rompe el ciclo ya que solo basta un divisor para no ser primo\n",
    "    j+=1 # se suma 1 a j en cada paso\n",
    "  if n == 1: # si el numero es 1, no es primmo \n",
    "    primo_si= False \n",
    "  if primo_si == True : # Si nunca se cambio a falso se imprime que el numero es primo\n",
    "    print(str(n) + \" es primo\") \n",
    "\n",
    "i: int =1  # Desde que numero se van a imprimir los primos\n",
    "x: int =100 # Hasta que numero se van a imprimir los primos\n",
    "while i<=x: # Se repite el ciclo hasta que se llegue al limite superior\n",
    "  calculo_primo(i) # Se comprueba si es primo para un numero\n",
    "  i+=1  # Se suma 1 al limite inferior"
   ]
  }
 ],
 "metadata": {
  "kernelspec": {
   "display_name": "Python 3",
   "language": "python",
   "name": "python3"
  },
  "language_info": {
   "codemirror_mode": {
    "name": "ipython",
    "version": 3
   },
   "file_extension": ".py",
   "mimetype": "text/x-python",
   "name": "python",
   "nbconvert_exporter": "python",
   "pygments_lexer": "ipython3",
   "version": "3.11.5"
  }
 },
 "nbformat": 4,
 "nbformat_minor": 2
}
